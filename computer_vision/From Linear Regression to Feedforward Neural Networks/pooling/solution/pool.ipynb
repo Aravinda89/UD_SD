{
 "cells": [
  {
   "cell_type": "code",
   "execution_count": 1,
   "metadata": {},
   "outputs": [],
   "source": [
    "import argparse\n",
    "import numpy as np\n",
    "from utils import check_output"
   ]
  },
  {
   "cell_type": "code",
   "execution_count": 2,
   "metadata": {},
   "outputs": [],
   "source": [
    "def get_paddings(array, pool_size, pool_stride):\n",
    "    \"\"\" \n",
    "    get padding sizes \n",
    "    args:\n",
    "    - array [array]: input np array NxwxHxC\n",
    "    - pool_size [int]: window size\n",
    "    - pool_stride [int]: stride\n",
    "    returns:\n",
    "    - paddings [list[list]]: paddings in np.pad format\n",
    "    \"\"\"\n",
    "    _, w, h, _ = array.shape\n",
    "    wpad = (w // pool_stride) * pool_stride + pool_size - w\n",
    "    hpad = (h // pool_stride) * pool_stride + pool_size - h\n",
    "    return [[0, 0], [0, wpad], [0, hpad], [0, 0]]\n",
    "\n",
    "\n",
    "def get_output_size(shape, pool_size, pool_stride):\n",
    "    \"\"\" \n",
    "    given input shape, pooling window and stride, output shape \n",
    "    args:\n",
    "    - shape [list]: input shape\n",
    "    - pool_size [int]: window size\n",
    "    - pool_stride [int]: stride\n",
    "    returns\n",
    "    - output_shape [list]: output array shape\n",
    "    \"\"\"\n",
    "    w = shape[1]\n",
    "    h = shape[2]\n",
    "    new_w = (w - pool_size) / pool_stride + 1\n",
    "    new_h = (h - pool_size) / pool_stride + 1\n",
    "    return [shape[0], int(new_w), int(new_h), shape[3]]"
   ]
  },
  {
   "cell_type": "code",
   "execution_count": 3,
   "metadata": {},
   "outputs": [
    {
     "name": "stdout",
     "output_type": "stream",
     "text": [
      "Success\n"
     ]
    }
   ],
   "source": [
    "# if __name__ == '__main__':\n",
    "#     parser = argparse.ArgumentParser(description='Download and process tf files')\n",
    "#     parser.add_argument('-f', '--pool_size', required=True, type=int, default=3,\n",
    "#                         help='pool filter size')\n",
    "#     parser.add_argument('-s', '--stride', required=True, type=int, default=3,\n",
    "#                         help='stride size')\n",
    "#     args = parser.parse_args()  \n",
    "\n",
    "\n",
    "pool_size = 3\n",
    "stride = 3\n",
    "\n",
    "input_array = np.random.rand(1, 224, 224, 16)\n",
    "pool_size = pool_size\n",
    "pool_stride = stride\n",
    "\n",
    "# padd the input layer\n",
    "paddings = get_paddings(input_array, pool_size, pool_stride)\n",
    "padded = np.pad(input_array, paddings, mode='constant', constant_values=0)\n",
    "\n",
    "# get output size\n",
    "output_size = get_output_size(padded.shape, pool_size, pool_stride)\n",
    "output = np.zeros(output_size)\n",
    "\n",
    "idx = 0\n",
    "for i in range(0, input_array.shape[1], pool_size):\n",
    "    jdx = 0\n",
    "    for j in range(0, input_array.shape[2], pool_size):\n",
    "        local = padded[:, i: i + pool_size, j: j + pool_size, :]\n",
    "        local_max = np.max(local, axis=(1, 2))\n",
    "        output[:, idx, jdx, :] = local_max\n",
    "        jdx += 1\n",
    "    idx += 1\n",
    "check_output(output, pool_size, pool_stride)"
   ]
  },
  {
   "cell_type": "code",
   "execution_count": 5,
   "metadata": {},
   "outputs": [
    {
     "data": {
      "text/plain": [
       "3"
      ]
     },
     "execution_count": 5,
     "metadata": {},
     "output_type": "execute_result"
    }
   ],
   "source": [
    "pool_size"
   ]
  }
 ],
 "metadata": {
  "kernelspec": {
   "display_name": "TF2",
   "language": "python",
   "name": "tf2"
  },
  "language_info": {
   "codemirror_mode": {
    "name": "ipython",
    "version": 3
   },
   "file_extension": ".py",
   "mimetype": "text/x-python",
   "name": "python",
   "nbconvert_exporter": "python",
   "pygments_lexer": "ipython3",
   "version": "3.7.5"
  }
 },
 "nbformat": 4,
 "nbformat_minor": 2
}
