{
 "cells": [
  {
   "cell_type": "code",
   "execution_count": 40,
   "metadata": {},
   "outputs": [],
   "source": [
    "import numpy as np\n",
    "from utils import get_data, check_results\n",
    "from iou import calculate_ious"
   ]
  },
  {
   "cell_type": "code",
   "execution_count": 2,
   "metadata": {},
   "outputs": [],
   "source": [
    "def calculate_iou(gt_bbox, pred_bbox):\n",
    "    \"\"\"\n",
    "    calculate iou \n",
    "    args:\n",
    "    - gt_bbox [array]: 1x4 single gt bbox\n",
    "    - pred_bbox [array]: 1x4 single pred bbox\n",
    "    returns:\n",
    "    - iou [float]: iou between 2 bboxes\n",
    "    \"\"\"\n",
    "    \n",
    "    # intersect box cordinates\n",
    "    xmin = np.max([gt_bbox[0], pred_bbox[0]])\n",
    "    ymin = np.max([gt_bbox[1], pred_bbox[1]])\n",
    "    xmax = np.min([gt_bbox[2], pred_bbox[2]])\n",
    "    ymax = np.min([gt_bbox[3], pred_bbox[3]])\n",
    "    \n",
    "    intersection = max(0, xmax - xmin) * max(0, ymax - ymin) # area\n",
    "    gt_area = (gt_bbox[2] - gt_bbox[0]) * (gt_bbox[3] - gt_bbox[1])\n",
    "    pred_area = (pred_bbox[2] - pred_bbox[0]) * (pred_bbox[3] - pred_bbox[1])\n",
    "    \n",
    "    union = gt_area + pred_area - intersection\n",
    "    return intersection / union\n",
    "\n",
    "\n",
    "def calculate_ious(gt_bboxes, pred_bboxes):\n",
    "    \"\"\"\n",
    "    calculate ious between 2 sets of bboxes \n",
    "    args:\n",
    "    - gt_bboxes [array]: Nx4 ground truth array\n",
    "    - pred_bboxes [array]: Mx4 pred array\n",
    "    returns:\n",
    "    - iou [array]: NxM array of ious\n",
    "    \"\"\"\n",
    "    ious = np.zeros((gt_bboxes.shape[0], pred_bboxes.shape[0]))\n",
    "    \n",
    "    for i, gt_bbox in enumerate(gt_bboxes):\n",
    "        for j, pred_bbox in enumerate(pred_bboxes):\n",
    "            ious[i,j] = calculate_iou(gt_bbox, pred_bbox)\n",
    "    return ious"
   ]
  },
  {
   "cell_type": "code",
   "execution_count": 3,
   "metadata": {},
   "outputs": [],
   "source": [
    "ground_truth, predictions = get_data()"
   ]
  },
  {
   "cell_type": "code",
   "execution_count": 19,
   "metadata": {},
   "outputs": [
    {
     "data": {
      "text/plain": [
       "{'boxes': [[783, 1104, 1011, 1700],\n",
       "  [853, 0, 1220, 200],\n",
       "  [734, 0, 1100, 240],\n",
       "  [753, 474, 868, 609],\n",
       "  [830, 1500, 1004, 1914]],\n",
       " 'classes': [1, 2, 1, 2, 1],\n",
       " 'filename': 'segment-1231623110026745648_480_000_500_000_with_camera_labels_38.png'}"
      ]
     },
     "execution_count": 19,
     "metadata": {},
     "output_type": "execute_result"
    }
   ],
   "source": [
    "predictions[0]"
   ]
  },
  {
   "cell_type": "code",
   "execution_count": 29,
   "metadata": {},
   "outputs": [],
   "source": [
    "# get bboxes array\n",
    "filename = 'segment-1231623110026745648_480_000_500_000_with_camera_labels_38.png'"
   ]
  },
  {
   "cell_type": "code",
   "execution_count": 30,
   "metadata": {},
   "outputs": [],
   "source": [
    "gt_bboxes = [g['boxes'] for g in ground_truth if g['filename'] == filename][0]\n",
    "gt_bboxes = np.array(gt_bboxes)"
   ]
  },
  {
   "cell_type": "code",
   "execution_count": 31,
   "metadata": {},
   "outputs": [],
   "source": [
    "pred_bboxes = [p['boxes'] for p in predictions if p['filename'] == filename][0]\n",
    "pred_boxes = np.array(pred_bboxes)"
   ]
  },
  {
   "cell_type": "code",
   "execution_count": 32,
   "metadata": {},
   "outputs": [
    {
     "data": {
      "text/plain": [
       "array([[ 793, 1134, 1001, 1718],\n",
       "       [ 737,    0,  898,  260],\n",
       "       [ 763,  484,  878,  619],\n",
       "       [ 734,    0, 1114,  277],\n",
       "       [ 853,    0, 1280,  250],\n",
       "       [ 820, 1566,  974, 1914],\n",
       "       [ 762,  951,  844, 1175],\n",
       "       [ 748,  197,  803,  363]])"
      ]
     },
     "execution_count": 32,
     "metadata": {},
     "output_type": "execute_result"
    }
   ],
   "source": [
    "gt_bboxes"
   ]
  },
  {
   "cell_type": "code",
   "execution_count": 33,
   "metadata": {},
   "outputs": [
    {
     "data": {
      "text/plain": [
       "array([[ 783, 1104, 1011, 1700],\n",
       "       [ 853,    0, 1220,  200],\n",
       "       [ 734,    0, 1100,  240],\n",
       "       [ 753,  474,  868,  609],\n",
       "       [ 830, 1500, 1004, 1914]])"
      ]
     },
     "execution_count": 33,
     "metadata": {},
     "output_type": "execute_result"
    }
   ],
   "source": [
    "pred_boxes"
   ]
  },
  {
   "cell_type": "code",
   "execution_count": 35,
   "metadata": {},
   "outputs": [
    {
     "data": {
      "text/plain": [
       "(8, 4)"
      ]
     },
     "execution_count": 35,
     "metadata": {},
     "output_type": "execute_result"
    }
   ],
   "source": [
    "gt_bboxes.shape"
   ]
  },
  {
   "cell_type": "code",
   "execution_count": 36,
   "metadata": {},
   "outputs": [
    {
     "data": {
      "text/plain": [
       "(5, 4)"
      ]
     },
     "execution_count": 36,
     "metadata": {},
     "output_type": "execute_result"
    }
   ],
   "source": [
    "pred_boxes.shape"
   ]
  },
  {
   "cell_type": "code",
   "execution_count": 38,
   "metadata": {},
   "outputs": [
    {
     "data": {
      "text/plain": [
       "array([[0.84313051, 0.        , 0.        , 0.        , 0.23860974],\n",
       "       [0.        , 0.08469791, 0.4243356 , 0.        , 0.        ],\n",
       "       [0.        , 0.        , 0.        , 0.73221757, 0.        ],\n",
       "       [0.        , 0.41277874, 0.83450504, 0.        , 0.        ],\n",
       "       [0.        , 0.68758782, 0.43810509, 0.        , 0.        ],\n",
       "       [0.12221933, 0.        , 0.        , 0.        , 0.66359447],\n",
       "       [0.02888778, 0.        , 0.        , 0.        , 0.        ],\n",
       "       [0.        , 0.        , 0.02499868, 0.        , 0.        ]])"
      ]
     },
     "execution_count": 38,
     "metadata": {},
     "output_type": "execute_result"
    }
   ],
   "source": [
    "ious = calculate_ious(gt_bboxes, pred_boxes)\n",
    "ious"
   ]
  },
  {
   "cell_type": "code",
   "execution_count": 39,
   "metadata": {},
   "outputs": [
    {
     "name": "stdout",
     "output_type": "stream",
     "text": [
      "Congrats, the iou calculation is correct!\n"
     ]
    }
   ],
   "source": [
    "check_results(ious)"
   ]
  },
  {
   "cell_type": "code",
   "execution_count": 41,
   "metadata": {},
   "outputs": [
    {
     "data": {
      "text/plain": [
       "array([[0.84313051, 0.        , 0.        , 0.        , 0.23860974],\n",
       "       [0.        , 0.08469791, 0.4243356 , 0.        , 0.        ],\n",
       "       [0.        , 0.        , 0.        , 0.73221757, 0.        ],\n",
       "       [0.        , 0.41277874, 0.83450504, 0.        , 0.        ],\n",
       "       [0.        , 0.68758782, 0.43810509, 0.        , 0.        ],\n",
       "       [0.12221933, 0.        , 0.        , 0.        , 0.66359447],\n",
       "       [0.02888778, 0.        , 0.        , 0.        , 0.        ],\n",
       "       [0.        , 0.        , 0.02499868, 0.        , 0.        ]])"
      ]
     },
     "execution_count": 41,
     "metadata": {},
     "output_type": "execute_result"
    }
   ],
   "source": [
    "ious"
   ]
  },
  {
   "cell_type": "code",
   "execution_count": 46,
   "metadata": {},
   "outputs": [],
   "source": [
    "xs, ys = np.where(ious>0.5)"
   ]
  },
  {
   "cell_type": "code",
   "execution_count": 47,
   "metadata": {},
   "outputs": [
    {
     "data": {
      "text/plain": [
       "array([0, 2, 3, 4, 5])"
      ]
     },
     "execution_count": 47,
     "metadata": {},
     "output_type": "execute_result"
    }
   ],
   "source": [
    "xs"
   ]
  },
  {
   "cell_type": "code",
   "execution_count": 48,
   "metadata": {},
   "outputs": [
    {
     "data": {
      "text/plain": [
       "array([0, 3, 2, 1, 4])"
      ]
     },
     "execution_count": 48,
     "metadata": {},
     "output_type": "execute_result"
    }
   ],
   "source": [
    "ys"
   ]
  },
  {
   "cell_type": "code",
   "execution_count": 49,
   "metadata": {},
   "outputs": [
    {
     "data": {
      "text/plain": [
       "array([0, 2, 3, 4, 5])"
      ]
     },
     "execution_count": 49,
     "metadata": {},
     "output_type": "execute_result"
    }
   ],
   "source": [
    "np.unique(xs)"
   ]
  },
  {
   "cell_type": "code",
   "execution_count": 50,
   "metadata": {},
   "outputs": [],
   "source": [
    "def precision_recall(ious, gt_classes, pred_classes):\n",
    "    \"\"\"\n",
    "    calculate precision and recall\n",
    "    args:\n",
    "    - ious [array]: NxM array of ious\n",
    "    - gt_classes [array]: 1xN array of ground truth classes\n",
    "    - pred_classes [array]: 1xM array of pred classes\n",
    "    returns:\n",
    "    - precision [float]\n",
    "    - recall [float]\n",
    "    \"\"\"\n",
    "    xs, ys = np.where(ious>0.5)\n",
    "\n",
    "    # calculate true positive and true negative\n",
    "    tps = 0\n",
    "    fps = 0\n",
    "    \n",
    "    for x, y in zip(xs, ys):\n",
    "        if gt_classes[x] == pred_classes[y]:\n",
    "            tps += 1\n",
    "        else:\n",
    "            fps += 1\n",
    "\n",
    "    matched_gt = len(np.unique(xs))\n",
    "    fns = len(gt_classes) - matched_gt\n",
    "\n",
    "    precision = tps / (tps+fps)\n",
    "    recall = tps / (tps + fns)\n",
    "    return precision, recall"
   ]
  },
  {
   "cell_type": "code",
   "execution_count": 51,
   "metadata": {},
   "outputs": [],
   "source": [
    "ground_truth, predictions = get_data()\n",
    "    \n",
    "# get bboxes array\n",
    "filename = 'segment-1231623110026745648_480_000_500_000_with_camera_labels_38.png'\n",
    "gt_bboxes = [g['boxes'] for g in ground_truth if g['filename'] == filename][0]\n",
    "gt_bboxes = np.array(gt_bboxes)\n",
    "\n",
    "gt_classes = [g['classes'] for g in ground_truth if g['filename'] == filename][0]\n",
    "\n",
    "pred_bboxes = [p['boxes'] for p in predictions if p['filename'] == filename][0]\n",
    "pred_boxes = np.array(pred_bboxes)\n",
    "\n",
    "pred_classes = [p['classes'] for p in predictions if p['filename'] == filename][0]"
   ]
  },
  {
   "cell_type": "code",
   "execution_count": 52,
   "metadata": {},
   "outputs": [],
   "source": [
    "ious = calculate_ious(gt_bboxes, pred_boxes)\n",
    "precision, recall = precision_recall(ious, gt_classes, pred_classes)"
   ]
  },
  {
   "cell_type": "code",
   "execution_count": 56,
   "metadata": {},
   "outputs": [
    {
     "name": "stdout",
     "output_type": "stream",
     "text": [
      "Precision: 0.8\n",
      "Recall: 0.5714285714285714\n"
     ]
    }
   ],
   "source": [
    "print(f'Precision: {precision}')\n",
    "print(f'Recall: {recall}')"
   ]
  },
  {
   "cell_type": "code",
   "execution_count": null,
   "metadata": {},
   "outputs": [],
   "source": []
  }
 ],
 "metadata": {
  "kernelspec": {
   "display_name": "Python (myenv)",
   "language": "python",
   "name": "myenv"
  },
  "language_info": {
   "codemirror_mode": {
    "name": "ipython",
    "version": 3
   },
   "file_extension": ".py",
   "mimetype": "text/x-python",
   "name": "python",
   "nbconvert_exporter": "python",
   "pygments_lexer": "ipython3",
   "version": "3.8.5"
  }
 },
 "nbformat": 4,
 "nbformat_minor": 2
}
