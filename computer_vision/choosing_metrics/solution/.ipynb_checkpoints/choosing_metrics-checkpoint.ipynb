{
 "cells": [
  {
   "cell_type": "code",
   "execution_count": 1,
   "metadata": {},
   "outputs": [],
   "source": [
    "import numpy as np\n",
    "from utils import get_data, check_results"
   ]
  },
  {
   "cell_type": "code",
   "execution_count": 2,
   "metadata": {},
   "outputs": [],
   "source": [
    "def calculate_iou(gt_bbox, pred_bbox):\n",
    "    \"\"\"\n",
    "    calculate iou \n",
    "    args:\n",
    "    - gt_bbox [array]: 1x4 single gt bbox\n",
    "    - pred_bbox [array]: 1x4 single pred bbox\n",
    "    returns:\n",
    "    - iou [float]: iou between 2 bboxes\n",
    "    \"\"\"\n",
    "    \n",
    "    # intersect box cordinates\n",
    "    xmin = np.max([gt_bbox[0], pred_bbox[0]])\n",
    "    ymin = np.max([gt_bbox[1], pred_bbox[1]])\n",
    "    xmax = np.min([gt_bbox[2], pred_bbox[2]])\n",
    "    ymax = np.min([gt_bbox[3], pred_bbox[3]])\n",
    "    \n",
    "    intersection = max(0, xmax - xmin) * max(0, ymax - ymin)\n",
    "    gt_area = (gt_bbox[2] - gt_bbox[0]) * (gt_bbox[3] - gt_bbox[1])\n",
    "    pred_area = (pred_bbox[2] - pred_bbox[0]) * (pred_bbox[3] - pred_bbox[1])\n",
    "    \n",
    "    union = gt_area + pred_area - intersection\n",
    "    return intersection / union\n",
    "\n",
    "\n",
    "def calculate_ious(gt_bboxes, pred_bboxes):\n",
    "    \"\"\"\n",
    "    calculate ious between 2 sets of bboxes \n",
    "    args:\n",
    "    - gt_bboxes [array]: Nx4 ground truth array\n",
    "    - pred_bboxes [array]: Mx4 pred array\n",
    "    returns:\n",
    "    - iou [array]: NxM array of ious\n",
    "    \"\"\"\n",
    "    ious = np.zeros((gt_bboxes.shape[0], pred_bboxes.shape[0]))\n",
    "    for i, gt_bbox in enumerate(gt_bboxes):\n",
    "        for j, pred_bbox in enumerate(pred_bboxes):\n",
    "            ious[i,j] = calculate_iou(gt_bbox, pred_bbox)\n",
    "    return ious"
   ]
  },
  {
   "cell_type": "code",
   "execution_count": 3,
   "metadata": {},
   "outputs": [],
   "source": [
    "ground_truth, predictions = get_data()"
   ]
  },
  {
   "cell_type": "code",
   "execution_count": null,
   "metadata": {},
   "outputs": [],
   "source": [
    "# get bboxes array\n",
    "filename = 'segment-1231623110026745648_480_000_500_000_with_camera_labels_38.png'\n",
    "gt_bboxes = [g['boxes'] for g in ground_truth if g['filename'] == filename][0]\n",
    "gt_bboxes = np.array(gt_bboxes)\n",
    "\n",
    "pred_bboxes = [p['boxes'] for p in predictions if p['filename'] == filename][0]\n",
    "pred_boxes = np.array(pred_bboxes)\n",
    "\n",
    "ious = calculate_ious(gt_bboxes, pred_boxes)\n",
    "check_results(ious)"
   ]
  }
 ],
 "metadata": {
  "kernelspec": {
   "display_name": "Python (myenv)",
   "language": "python",
   "name": "myenv"
  },
  "language_info": {
   "codemirror_mode": {
    "name": "ipython",
    "version": 3
   },
   "file_extension": ".py",
   "mimetype": "text/x-python",
   "name": "python",
   "nbconvert_exporter": "python",
   "pygments_lexer": "ipython3",
   "version": "3.8.5"
  }
 },
 "nbformat": 4,
 "nbformat_minor": 2
}
