{
 "cells": [
  {
   "cell_type": "code",
   "execution_count": 1,
   "metadata": {},
   "outputs": [],
   "source": [
    "import glob\n",
    "import json\n",
    "import os\n",
    "\n",
    "import matplotlib.pyplot as plt\n",
    "from matplotlib.patches import Rectangle\n",
    "from PIL import Image\n",
    "\n",
    "from utils import get_data"
   ]
  },
  {
   "cell_type": "code",
   "execution_count": null,
   "metadata": {},
   "outputs": [],
   "source": [
    "def viz(ground_truth):\n",
    "    \"\"\"\n",
    "    create a grid visualization of images with color coded bboxes\n",
    "    args:\n",
    "    - ground_truth [list[dict]]: ground truth data\n",
    "    \"\"\"\n",
    "    paths = glob.glob('../data/images/*')\n",
    "\n",
    "    # mapping to access data faster\n",
    "    gtdic = {}\n",
    "    for gt in ground_truth:\n",
    "        gtdic[gt['filename']] = gt\n",
    "\n",
    "    # color mapping of classes\n",
    "    colormap = {1: [1, 0, 0], 2: [0, 1, 0], 4: [0, 0, 1]}\n",
    "\n",
    "    f, ax = plt.subplots(4, 5, figsize=(20, 10))\n",
    "    for i in range(20):\n",
    "        x = i % 4\n",
    "        y = i % 5\n",
    "\n",
    "        filename = os.path.basename(paths[i])\n",
    "        img = Image.open(paths[i])\n",
    "        ax[x, y].imshow(img)\n",
    "\n",
    "        bboxes = gtdic[filename]['boxes']\n",
    "        classes = gtdic[filename]['classes']\n",
    "        for cl, bb in zip(classes, bboxes):\n",
    "            y1, x1, y2, x2 = bb\n",
    "            rec = Rectangle((x1, y1), x2- x1, y2-y1, facecolor='none', \n",
    "                            edgecolor=colormap[cl])\n",
    "            ax[x, y].add_patch(rec)\n",
    "        ax[x ,y].axis('off')\n",
    "    plt.tight_layout()\n",
    "    plt.show()\n",
    "\n",
    "\n",
    "if __name__ == \"__main__\": \n",
    "    ground_truth, _ = get_data()\n",
    "    viz(ground_truth)"
   ]
  }
 ],
 "metadata": {
  "kernelspec": {
   "display_name": "TF2",
   "language": "python",
   "name": "tf2"
  },
  "language_info": {
   "codemirror_mode": {
    "name": "ipython",
    "version": 3
   },
   "file_extension": ".py",
   "mimetype": "text/x-python",
   "name": "python",
   "nbconvert_exporter": "python",
   "pygments_lexer": "ipython3",
   "version": "3.7.5"
  }
 },
 "nbformat": 4,
 "nbformat_minor": 2
}
