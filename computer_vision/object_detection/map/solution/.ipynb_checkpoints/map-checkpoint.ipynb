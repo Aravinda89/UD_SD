{
 "cells": [
  {
   "cell_type": "code",
   "execution_count": 2,
   "metadata": {},
   "outputs": [],
   "source": [
    "import copy\n",
    "import json\n",
    "from collections import Counter\n",
    "\n",
    "import matplotlib.pyplot as plt\n",
    "import numpy as np\n",
    "\n",
    "from utils import calculate_iou, check_results"
   ]
  },
  {
   "cell_type": "code",
   "execution_count": 3,
   "metadata": {},
   "outputs": [
    {
     "data": {
      "image/png": "[encoded data removed]",
      "text/plain": [
       "<Figure size 432x288 with 1 Axes>"
      ]
     },
     "metadata": {
      "needs_background": "light"
     },
     "output_type": "display_data"
    },
    {
     "name": "stdout",
     "output_type": "stream",
     "text": [
      "mAP calculation is correct!\n"
     ]
    }
   ],
   "source": [
    "if __name__ == '__main__':\n",
    "    # load data \n",
    "    with open('../data/predictions.json', 'r') as f:\n",
    "        preds = json.load(f)\n",
    "\n",
    "    with open('../data/ground_truths.json', 'r') as f:\n",
    "        gts = json.load(f)\n",
    "    \n",
    "    # sort predictions by scores\n",
    "    boxes = preds[0]['boxes']\n",
    "    classes = preds[0]['classes']\n",
    "    scores = preds[0]['scores']\n",
    "\n",
    "    predictions = [(bb, cl, sc) for bb, cl,sc in zip(boxes, classes, scores)]\n",
    "    predictions = sorted(predictions, key=lambda k:k[-1])[::-1] \n",
    "\n",
    "    # create precision - recall plot\n",
    "    total = len(gts[0]['boxes'])\n",
    "    tp = 0\n",
    "    curve = []\n",
    "    for idx, pred in enumerate(predictions):\n",
    "        for bb in gts[0]['boxes']:\n",
    "            iou = calculate_iou(bb, pred[0])\n",
    "            # print(iou)\n",
    "            if iou > 0.5:\n",
    "                if pred[1] == 1:\n",
    "                    tp += 1\n",
    "        prec = tp / (idx+1)\n",
    "        rec = tp / total\n",
    "        curve.append([prec, rec])\n",
    "\n",
    "    # smooth PR curve\n",
    "    curve = np.array(curve)\n",
    "    ct = Counter(curve[:, 1])\n",
    "    boundaries = sorted([k for k,v in ct.items() if v > 1])\n",
    "    # get max precision values\n",
    "    maxes = []\n",
    "    for i in range(len(boundaries)):\n",
    "        if i != len(boundaries) - 1:\n",
    "            loc = [p[0] for p in curve if boundaries[i+1] >= p[1] > boundaries[i]]\n",
    "            maxes.append(np.max(loc))\n",
    "        else:\n",
    "            loc = [p[0] for p in curve if p[1] > boundaries[i]]\n",
    "            maxes.append(np.max(loc))\n",
    "    smoothed = copy.copy(curve)\n",
    "    replace = -1\n",
    "    for i in range(smoothed.shape[0]-1):\n",
    "        if replace != -1:\n",
    "            smoothed[i, 0] = maxes[replace]\n",
    "        if smoothed[i, 1] == smoothed[i+1, 1]:\n",
    "            replace += 1 \n",
    "    \n",
    "    plt.plot(curve[:, 1], curve[:, 0], linewidth=4)\n",
    "    plt.plot(smoothed[:, 1], smoothed[:, 0], linewidth=4)\n",
    "    plt.xlabel('recall', fontsize=18)\n",
    "    plt.ylabel('precision', fontsize=18)\n",
    "    plt.show()\n",
    "\n",
    "    # calculate mAP\n",
    "    cmin = 0\n",
    "    mAP = 0\n",
    "    for i in range(smoothed.shape[0] - 1):\n",
    "        if smoothed[i, 1] == smoothed[i+1, 1]:\n",
    "            mAP += (smoothed[i, 1] - cmin) * smoothed[i, 0]\n",
    "            cmin = smoothed[i, 1]\n",
    "    mAP += (smoothed[-1, 1] - cmin) * smoothed[-1, 0]\n",
    "    check_results(mAP)"
   ]
  },
  {
   "cell_type": "code",
   "execution_count": 4,
   "metadata": {},
   "outputs": [
    {
     "data": {
      "text/plain": [
       "0.7285714285714285"
      ]
     },
     "execution_count": 4,
     "metadata": {},
     "output_type": "execute_result"
    }
   ],
   "source": [
    "mAP"
   ]
  },
  {
   "cell_type": "code",
   "execution_count": null,
   "metadata": {},
   "outputs": [],
   "source": []
  }
 ],
 "metadata": {
  "kernelspec": {
   "display_name": "TF2",
   "language": "python",
   "name": "tf2"
  },
  "language_info": {
   "codemirror_mode": {
    "name": "ipython",
    "version": 3
   },
   "file_extension": ".py",
   "mimetype": "text/x-python",
   "name": "python",
   "nbconvert_exporter": "python",
   "pygments_lexer": "ipython3",
   "version": "3.7.5"
  }
 },
 "nbformat": 4,
 "nbformat_minor": 2
}
