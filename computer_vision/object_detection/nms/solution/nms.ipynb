{
 "cells": [
  {
   "cell_type": "code",
   "execution_count": 1,
   "metadata": {},
   "outputs": [
    {
     "name": "stdout",
     "output_type": "stream",
     "text": [
      "The NMS implementation is correct!\n"
     ]
    }
   ],
   "source": [
    "import json\n",
    "\n",
    "from utils import calculate_iou, check_results\n",
    "\n",
    "\n",
    "def nms(predictions):\n",
    "    \"\"\"\n",
    "    non max suppression\n",
    "    args:\n",
    "    - predictions [dict]: predictions dict \n",
    "    returns:\n",
    "    - filtered [list]: filtered bboxes and scores\n",
    "    \"\"\"\n",
    "\n",
    "    data = []\n",
    "    for bb, sc in zip(predictions['boxes'], predictions['scores']):\n",
    "        data.append([bb, sc])\n",
    "\n",
    "    data_sorted = sorted(data, key = lambda k: k[1])[::-1]\n",
    "    filtered = []\n",
    "    for i, bi in enumerate(data_sorted):\n",
    "        discard = False\n",
    "        for j, bj in enumerate(data_sorted):\n",
    "            if i == j:\n",
    "                continue\n",
    "            iou = calculate_iou(bi[0], bj[0])\n",
    "            if iou > 0.5:\n",
    "                if bj[1] > bi[1]:\n",
    "                    discard = True\n",
    "        if not discard:\n",
    "            filtered.append(bi)\n",
    "    return filtered\n",
    "\n",
    "\n",
    "if __name__ == '__main__':\n",
    "    with open('../data/predictions_nms.json', 'r') as f:\n",
    "        predictions = json.load(f)\n",
    "    \n",
    "    filtered = nms(predictions)\n",
    "    check_results(filtered)"
   ]
  },
  {
   "cell_type": "code",
   "execution_count": 2,
   "metadata": {},
   "outputs": [
    {
     "data": {
      "text/plain": [
       "[[[107, 107, 192, 148], 0.814756824762981],\n",
       " [[101, 90, 206, 141], 0.7962375654802895]]"
      ]
     },
     "execution_count": 2,
     "metadata": {},
     "output_type": "execute_result"
    }
   ],
   "source": [
    "filtered"
   ]
  },
  {
   "cell_type": "code",
   "execution_count": null,
   "metadata": {},
   "outputs": [],
   "source": []
  }
 ],
 "metadata": {
  "kernelspec": {
   "display_name": "TF2",
   "language": "python",
   "name": "tf2"
  },
  "language_info": {
   "codemirror_mode": {
    "name": "ipython",
    "version": 3
   },
   "file_extension": ".py",
   "mimetype": "text/x-python",
   "name": "python",
   "nbconvert_exporter": "python",
   "pygments_lexer": "ipython3",
   "version": "3.7.5"
  }
 },
 "nbformat": 4,
 "nbformat_minor": 2
}
